{
 "cells": [
  {
   "cell_type": "code",
   "execution_count": null,
   "metadata": {},
   "outputs": [],
   "source": [
    "from sentence_transformers import SentenceTransformer, util\n",
    "import numpy as np\n",
    "\n",
    "# Загружаем модель для создания embedding-векторов\n",
    "model = SentenceTransformer('all-MiniLM-L6-v2')\n",
    "\n",
    "def cosine_similarity(text1, text2):\n",
    "    # Преобразуем текст в embedding-векторы\n",
    "    embedding1 = model.encode(text1, convert_to_tensor=True)\n",
    "    embedding2 = model.encode(text2, convert_to_tensor=True)\n",
    "    \n",
    "    # Вычисляем косинусное сходство\n",
    "    cosine_sim = util.pytorch_cos_sim(embedding1, embedding2)\n",
    "    \n",
    "    return cosine_sim.item()  # Возвращаем значение сходства как float\n",
    "\n",
    "# Пример данных\n",
    "question = \"Какую операционную систему поддерживает приложение?\"\n",
    "context = \"Наше приложение поддерживает Windows и macOS.\"\n",
    "\n",
    "# Вычисляем косинусное сходство\n",
    "similarity_score = cosine_similarity(question, context)\n",
    "print(f\"Cosine Similarity: {similarity_score:.4f}\")\n"
   ]
  }
 ],
 "metadata": {
  "kernelspec": {
   "display_name": "venv",
   "language": "python",
   "name": "python3"
  },
  "language_info": {
   "name": "python",
   "version": "3.12.7"
  }
 },
 "nbformat": 4,
 "nbformat_minor": 2
}
