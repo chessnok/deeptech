{
 "cells": [
  {
   "cell_type": "code",
   "metadata": {
    "ExecuteTime": {
     "end_time": "2024-10-26T23:25:33.058222Z",
     "start_time": "2024-10-26T23:20:10.541769Z"
    }
   },
   "source": [
    "from model.data_processing.docs_processing import *\n",
    "import requests\n",
    "import json\n",
    "from sentence_transformers import SentenceTransformer\n",
    "\n",
    "\n",
    "model = SentenceTransformer('paraphrase-multilingual-MiniLM-L12-v2')\n",
    "url = \"http://93.92.199.89:40886/new_conv\"\n",
    "\n",
    "headers = {\n",
    "'Content-Type': 'application/json'\n",
    "}\n",
    "\n",
    "uuid=requests.request(\"POST\", url, headers=headers).json()['uuid']\n",
    "\n",
    "url = \"http://93.92.199.89:40886/new_message\"\n",
    "data = pd.read_excel('data.xlsx')\n",
    "questions = data['questions']\n",
    "answers = data['answers']\n",
    "def get_multiple_answers(questions):\n",
    "    model_answers = []\n",
    "    for q in questions:\n",
    "        payload = json.dumps({\n",
    "            \"conversation_id\": uuid,\n",
    "            \"text\": q\n",
    "        })\n",
    "        response = requests.request(\"POST\", url, headers=headers, data=payload)\n",
    "        model_answers.append(response)\n",
    "def calc_score(model_answers, answers):\n",
    "    scores = []\n",
    "    for i in range(len(model_answers)):\n",
    "        scores.append(cosine_similarity(model_answers[i], answers[i], model))\n",
    "    return sum(scores)/len(scores)\n",
    "\n",
    "calc_score(get_multiple_answers(questions), answers)"
   ],
   "outputs": [
    {
     "name": "stderr",
     "output_type": "stream",
     "text": [
      "C:\\python\\easydocs\\tg_bot\\venv\\Lib\\site-packages\\sentence_transformers\\cross_encoder\\CrossEncoder.py:13: TqdmWarning: IProgress not found. Please update jupyter and ipywidgets. See https://ipywidgets.readthedocs.io/en/stable/user_install.html\n",
      "  from tqdm.autonotebook import tqdm, trange\n",
      "Error while downloading from https://cdn-lfs.hf.co/sentence-transformers/paraphrase-multilingual-MiniLM-L12-v2/eaa086f0ffee582aeb45b36e34cdd1fe2d6de2bef61f8a559a1bbc9bd955917b?response-content-disposition=inline%3B+filename*%3DUTF-8%27%27model.safetensors%3B+filename%3D%22model.safetensors%22%3B&Expires=1730243927&Policy=eyJTdGF0ZW1lbnQiOlt7IkNvbmRpdGlvbiI6eyJEYXRlTGVzc1RoYW4iOnsiQVdTOkVwb2NoVGltZSI6MTczMDI0MzkyN319LCJSZXNvdXJjZSI6Imh0dHBzOi8vY2RuLWxmcy5oZi5jby9zZW50ZW5jZS10cmFuc2Zvcm1lcnMvcGFyYXBocmFzZS1tdWx0aWxpbmd1YWwtTWluaUxNLUwxMi12Mi9lYWEwODZmMGZmZWU1ODJhZWI0NWIzNmUzNGNkZDFmZTJkNmRlMmJlZjYxZjhhNTU5YTFiYmM5YmQ5NTU5MTdiP3Jlc3BvbnNlLWNvbnRlbnQtZGlzcG9zaXRpb249KiJ9XX0_&Signature=l8MS7%7EMZn7hgB0t6xK4afjhShcqKw8S3EUVpzurAcK7j0E4faraCoi4fpJSXac%7EKZVFQ%7ELCnJf0dfGrEMXA3VgdMQ0Jzt2HmqmHzWDbE-J2MdSdpyt99SgHVZOYv9U4SXsJpA9tgthjToqDQUJzV-y61xV%7EM55iMNT02IE4dUqeyA03GiQUeiIUvFZbksH6F2lscGzBoHvuaKbyE420HIkoeEZDca7FCBSHjnQ7b4nu2Zav88hObs-ce9b8ENDz7qVWLYD9uwXdOhVPIxeaWQ8VjnW8X5NYULub1pw6GMgZAT-s36rFqyI6epD1b5H%7EXYXaCrMcP7Ii1QpuDFVi5HA__&Key-Pair-Id=K3RPWS32NSSJCE: HTTPSConnectionPool(host='cdn-lfs.hf.co', port=443): Read timed out.\n",
      "Trying to resume download...\n"
     ]
    },
    {
     "ename": "KeyError",
     "evalue": "'uuid'",
     "output_type": "error",
     "traceback": [
      "\u001B[1;31m---------------------------------------------------------------------------\u001B[0m",
      "\u001B[1;31mKeyError\u001B[0m                                  Traceback (most recent call last)",
      "Cell \u001B[1;32mIn[1], line 15\u001B[0m\n\u001B[0;32m      9\u001B[0m url \u001B[38;5;241m=\u001B[39m \u001B[38;5;124m\"\u001B[39m\u001B[38;5;124mhttp://93.92.199.89:40886/new_message\u001B[39m\u001B[38;5;124m\"\u001B[39m\n\u001B[0;32m     11\u001B[0m headers \u001B[38;5;241m=\u001B[39m {\n\u001B[0;32m     12\u001B[0m \u001B[38;5;124m'\u001B[39m\u001B[38;5;124mContent-Type\u001B[39m\u001B[38;5;124m'\u001B[39m: \u001B[38;5;124m'\u001B[39m\u001B[38;5;124mapplication/json\u001B[39m\u001B[38;5;124m'\u001B[39m\n\u001B[0;32m     13\u001B[0m }\n\u001B[1;32m---> 15\u001B[0m uuid\u001B[38;5;241m=\u001B[39m\u001B[43mrequests\u001B[49m\u001B[38;5;241;43m.\u001B[39;49m\u001B[43mrequest\u001B[49m\u001B[43m(\u001B[49m\u001B[38;5;124;43m\"\u001B[39;49m\u001B[38;5;124;43mPOST\u001B[39;49m\u001B[38;5;124;43m\"\u001B[39;49m\u001B[43m,\u001B[49m\u001B[43m \u001B[49m\u001B[43murl\u001B[49m\u001B[43m,\u001B[49m\u001B[43m \u001B[49m\u001B[43mheaders\u001B[49m\u001B[38;5;241;43m=\u001B[39;49m\u001B[43mheaders\u001B[49m\u001B[43m)\u001B[49m\u001B[38;5;241;43m.\u001B[39;49m\u001B[43mjson\u001B[49m\u001B[43m(\u001B[49m\u001B[43m)\u001B[49m\u001B[43m[\u001B[49m\u001B[38;5;124;43m'\u001B[39;49m\u001B[38;5;124;43muuid\u001B[39;49m\u001B[38;5;124;43m'\u001B[39;49m\u001B[43m]\u001B[49m\n\u001B[0;32m     17\u001B[0m data \u001B[38;5;241m=\u001B[39m pd\u001B[38;5;241m.\u001B[39mread_excel(\u001B[38;5;124m'\u001B[39m\u001B[38;5;124mdata.xlsx\u001B[39m\u001B[38;5;124m'\u001B[39m)\n\u001B[0;32m     18\u001B[0m questions \u001B[38;5;241m=\u001B[39m data[\u001B[38;5;124m'\u001B[39m\u001B[38;5;124mquestions\u001B[39m\u001B[38;5;124m'\u001B[39m]\n",
      "\u001B[1;31mKeyError\u001B[0m: 'uuid'"
     ]
    }
   ],
   "execution_count": 1
  },
  {
   "metadata": {},
   "cell_type": "code",
   "outputs": [],
   "execution_count": null,
   "source": "url = \"http://93.92.199.89:40886/new_conv\"\n"
  },
  {
   "metadata": {},
   "cell_type": "code",
   "outputs": [],
   "execution_count": null,
   "source": ""
  },
  {
   "metadata": {},
   "cell_type": "code",
   "outputs": [],
   "execution_count": null,
   "source": ""
  }
 ],
 "metadata": {
  "kernelspec": {
   "display_name": "base",
   "language": "python",
   "name": "python3"
  },
  "language_info": {
   "name": "python",
   "version": "3.11.4"
  }
 },
 "nbformat": 4,
 "nbformat_minor": 2
}
